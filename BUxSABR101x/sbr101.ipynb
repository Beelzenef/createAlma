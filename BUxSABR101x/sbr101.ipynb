{
  "cells": [
    {
      "cell_type": "markdown",
      "metadata": {},
      "source": [
        "# Sabermetrics\n",
        "\n",
        "## Estadisticas ofensivas tradicionales\n",
        "\n",
        "Hit (H)\n",
        "\n",
        "Batting Average (BA), las veces que un jugador logra avanzar a la base por Hit (H)\n",
        "\n",
        "Plate Appearance (PA), las veces que entras a batear\n",
        "\n",
        "At Bat (AB), las veces que el jugador aparece para batear (PA) pero **no** sucede ninguna de las circunstancias:\n",
        "\n",
        "- Avanza a base por Base por Bolas (BB) a primera base\n",
        "- Bateador golpeado por pitch, Hit by a Pitch (HBP)\n",
        "- Bateador obstruido por catcher y avanza a primera base\n",
        "- Sacrifice Fly (SF), donde el jugador es eliminado por un catch del equipo contrario, pero un compañero consigue anotar\n",
        "- Sacrifice Hit (SH) o Sacrifice Bunt, donde el jugador golpea la bola en el infield para que otro jugador avance una base\n",
        "- Jugador robando base"
      ]
    },
    {
      "cell_type": "markdown",
      "metadata": {},
      "source": [
        "$$ BA = H / AB $$"
      ]
    },
    {
      "cell_type": "markdown",
      "metadata": {},
      "source": [
        "Total Bases (TB), para conocer el valor del embase, con un valor específico para cada base:"
      ]
    },
    {
      "cell_type": "markdown",
      "metadata": {},
      "source": [
        "$$ TB = 1(1B)+2(2B)+3(3B)+4(4B) $$"
      ]
    },
    {
      "cell_type": "markdown",
      "metadata": {},
      "source": [
        "El valor de Slugging (SLG) mide la potencia del bateador, para calcular la potencia para llegar a anotar Home Run"
      ]
    },
    {
      "cell_type": "markdown",
      "metadata": {},
      "source": [
        "$$ SLG = TB / AB $$"
      ]
    }
  ],
  "metadata": {
    "kernelspec": {
      "display_name": "Python 3",
      "language": "python",
      "name": "python3"
    },
    "language_info": {
      "codemirror_mode": {
        "name": "ipython",
        "version": 3
      },
      "file_extension": ".py",
      "mimetype": "text/x-python",
      "name": "python",
      "nbconvert_exporter": "python",
      "pygments_lexer": "ipython3",
      "version": "3.12.2"
    }
  },
  "nbformat": 4,
  "nbformat_minor": 2
}